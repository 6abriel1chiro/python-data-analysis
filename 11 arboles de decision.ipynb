{
 "cells": [
  {
   "cell_type": "code",
   "execution_count": 1,
   "id": "5ff69a33",
   "metadata": {},
   "outputs": [],
   "source": [
    "from sklearn import tree\n"
   ]
  },
  {
   "cell_type": "code",
   "execution_count": 2,
   "id": "c63ea1e3",
   "metadata": {},
   "outputs": [],
   "source": [
    "caracteristicas = [[7,0.6,40],[7,0.6,41],[37,0.8,60],[37,0.8,70]]\n",
    "labels = ['Gato(0)','Gato(0)','Perro(1)','Perro(1)']"
   ]
  },
  {
   "cell_type": "code",
   "execution_count": 3,
   "id": "32630d0f",
   "metadata": {},
   "outputs": [],
   "source": [
    "labels2 = [0,0,1,1]"
   ]
  },
  {
   "cell_type": "code",
   "execution_count": 5,
   "id": "288f5ff3",
   "metadata": {},
   "outputs": [
    {
     "data": {
      "text/plain": [
       "DecisionTreeClassifier()"
      ]
     },
     "execution_count": 5,
     "metadata": {},
     "output_type": "execute_result"
    }
   ],
   "source": [
    "classifier = tree.DecisionTreeClassifier()\n",
    "classifier.fit(caracteristicas,labels2)"
   ]
  },
  {
   "cell_type": "code",
   "execution_count": 7,
   "id": "f531ed1d",
   "metadata": {},
   "outputs": [
    {
     "name": "stdout",
     "output_type": "stream",
     "text": [
      "[1]\n"
     ]
    }
   ],
   "source": [
    "res =  classifier.predict([[37,0.8,70]])\n",
    "print(res)"
   ]
  },
  {
   "cell_type": "code",
   "execution_count": null,
   "id": "639415e1",
   "metadata": {},
   "outputs": [],
   "source": []
  }
 ],
 "metadata": {
  "kernelspec": {
   "display_name": "Python 3 (ipykernel)",
   "language": "python",
   "name": "python3"
  },
  "language_info": {
   "codemirror_mode": {
    "name": "ipython",
    "version": 3
   },
   "file_extension": ".py",
   "mimetype": "text/x-python",
   "name": "python",
   "nbconvert_exporter": "python",
   "pygments_lexer": "ipython3",
   "version": "3.9.7"
  }
 },
 "nbformat": 4,
 "nbformat_minor": 5
}
